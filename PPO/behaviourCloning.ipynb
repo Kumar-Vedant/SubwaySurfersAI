{
 "cells": [
  {
   "cell_type": "code",
   "execution_count": 1,
   "metadata": {},
   "outputs": [],
   "source": [
    "import torch\n",
    "import numpy as np\n",
    "from neural_net import AgentNN\n",
    "from neural_net_BC import BehaviorCloningModel\n",
    "import numpy as np\n",
    "import pandas as pd\n",
    "from sklearn.model_selection import train_test_split\n",
    "from sklearn.metrics import accuracy_score, precision_score, recall_score, f1_score, confusion_matrix\n",
    "import matplotlib.pyplot as plt\n",
    "import seaborn as sns\n",
    "import os\n",
    "from sklearn.preprocessing import LabelEncoder"
   ]
  },
  {
   "cell_type": "markdown",
   "metadata": {},
   "source": [
    "## Define Hyperparameters"
   ]
  },
  {
   "cell_type": "code",
   "execution_count": 2,
   "metadata": {},
   "outputs": [],
   "source": [
    "LR = 5e-4\n",
    "N_EPOCHS = 20\n",
    "BATCH_SIZE = 128\n",
    "TEST_SIZE = 0.2"
   ]
  },
  {
   "cell_type": "markdown",
   "metadata": {},
   "source": [
    "## Load and create dataset"
   ]
  },
  {
   "cell_type": "code",
   "execution_count": 3,
   "metadata": {},
   "outputs": [],
   "source": [
    "Data = {\n",
    "    'jump': [f for f in os.listdir(\"../expert_data/jump/\")],\n",
    "    'roll': [f for f in os.listdir(\"../expert_data/roll/\")],\n",
    "    'left': [f for f in os.listdir(\"../expert_data/left/\")],\n",
    "    'right': [f for f in os.listdir(\"../expert_data/right/\")],\n",
    "    'no_op': [f for f in os.listdir(\"../expert_data/no_op/\")]\n",
    "}\n",
    "\n",
    "data_correct = {\n",
    "    \"observations\": [sample for action, samples in Data.items() for sample in samples],\n",
    "    \"labels\": [action for action, samples in Data.items() for sample in samples]\n",
    "    }\n",
    "\n",
    "data = pd.DataFrame(data_correct)\n",
    "\n",
    "lb = LabelEncoder()\n",
    "data['encoded_labels'] = lb.fit_transform(data['labels'])"
   ]
  },
  {
   "cell_type": "code",
   "execution_count": 4,
   "metadata": {},
   "outputs": [
    {
     "name": "stdout",
     "output_type": "stream",
     "text": [
      "<class 'pandas.core.frame.DataFrame'>\n",
      "RangeIndex: 38749 entries, 0 to 38748\n",
      "Data columns (total 3 columns):\n",
      " #   Column          Non-Null Count  Dtype \n",
      "---  ------          --------------  ----- \n",
      " 0   observations    38749 non-null  object\n",
      " 1   labels          38749 non-null  object\n",
      " 2   encoded_labels  38749 non-null  int64 \n",
      "dtypes: int64(1), object(2)\n",
      "memory usage: 908.3+ KB\n"
     ]
    }
   ],
   "source": [
    "data.info()"
   ]
  },
  {
   "cell_type": "code",
   "execution_count": 5,
   "metadata": {},
   "outputs": [
    {
     "data": {
      "text/html": [
       "<div>\n",
       "<style scoped>\n",
       "    .dataframe tbody tr th:only-of-type {\n",
       "        vertical-align: middle;\n",
       "    }\n",
       "\n",
       "    .dataframe tbody tr th {\n",
       "        vertical-align: top;\n",
       "    }\n",
       "\n",
       "    .dataframe thead th {\n",
       "        text-align: right;\n",
       "    }\n",
       "</style>\n",
       "<table border=\"1\" class=\"dataframe\">\n",
       "  <thead>\n",
       "    <tr style=\"text-align: right;\">\n",
       "      <th></th>\n",
       "      <th>observations</th>\n",
       "      <th>labels</th>\n",
       "      <th>encoded_labels</th>\n",
       "    </tr>\n",
       "  </thead>\n",
       "  <tbody>\n",
       "    <tr>\n",
       "      <th>0</th>\n",
       "      <td>obs_729.npy</td>\n",
       "      <td>jump</td>\n",
       "      <td>0</td>\n",
       "    </tr>\n",
       "    <tr>\n",
       "      <th>1</th>\n",
       "      <td>obs_639.npy</td>\n",
       "      <td>jump</td>\n",
       "      <td>0</td>\n",
       "    </tr>\n",
       "    <tr>\n",
       "      <th>2</th>\n",
       "      <td>obs_125.npy</td>\n",
       "      <td>jump</td>\n",
       "      <td>0</td>\n",
       "    </tr>\n",
       "    <tr>\n",
       "      <th>3</th>\n",
       "      <td>obs_2100.npy</td>\n",
       "      <td>jump</td>\n",
       "      <td>0</td>\n",
       "    </tr>\n",
       "    <tr>\n",
       "      <th>4</th>\n",
       "      <td>obs_447.npy</td>\n",
       "      <td>jump</td>\n",
       "      <td>0</td>\n",
       "    </tr>\n",
       "    <tr>\n",
       "      <th>...</th>\n",
       "      <td>...</td>\n",
       "      <td>...</td>\n",
       "      <td>...</td>\n",
       "    </tr>\n",
       "    <tr>\n",
       "      <th>8995</th>\n",
       "      <td>obs_2947.npy</td>\n",
       "      <td>right</td>\n",
       "      <td>3</td>\n",
       "    </tr>\n",
       "    <tr>\n",
       "      <th>8996</th>\n",
       "      <td>obs_2566.npy</td>\n",
       "      <td>right</td>\n",
       "      <td>3</td>\n",
       "    </tr>\n",
       "    <tr>\n",
       "      <th>8997</th>\n",
       "      <td>obs_1902.npy</td>\n",
       "      <td>right</td>\n",
       "      <td>3</td>\n",
       "    </tr>\n",
       "    <tr>\n",
       "      <th>8998</th>\n",
       "      <td>obs_2957.npy</td>\n",
       "      <td>right</td>\n",
       "      <td>3</td>\n",
       "    </tr>\n",
       "    <tr>\n",
       "      <th>8999</th>\n",
       "      <td>obs_28.npy</td>\n",
       "      <td>right</td>\n",
       "      <td>3</td>\n",
       "    </tr>\n",
       "  </tbody>\n",
       "</table>\n",
       "<p>9000 rows × 3 columns</p>\n",
       "</div>"
      ],
      "text/plain": [
       "      observations labels  encoded_labels\n",
       "0      obs_729.npy   jump               0\n",
       "1      obs_639.npy   jump               0\n",
       "2      obs_125.npy   jump               0\n",
       "3     obs_2100.npy   jump               0\n",
       "4      obs_447.npy   jump               0\n",
       "...            ...    ...             ...\n",
       "8995  obs_2947.npy  right               3\n",
       "8996  obs_2566.npy  right               3\n",
       "8997  obs_1902.npy  right               3\n",
       "8998  obs_2957.npy  right               3\n",
       "8999    obs_28.npy  right               3\n",
       "\n",
       "[9000 rows x 3 columns]"
      ]
     },
     "execution_count": 5,
     "metadata": {},
     "output_type": "execute_result"
    }
   ],
   "source": [
    "data.head(9000)"
   ]
  },
  {
   "cell_type": "code",
   "execution_count": 6,
   "metadata": {},
   "outputs": [],
   "source": [
    "tr, val = train_test_split(data.labels, test_size=TEST_SIZE)\n",
    "# tr = data.labels"
   ]
  },
  {
   "cell_type": "code",
   "execution_count": 7,
   "metadata": {},
   "outputs": [],
   "source": [
    "train_sampler = torch.utils.data.sampler.SubsetRandomSampler(list(tr.index))\n",
    "# valid_sampler = torch.utils.data.sampler.SubsetRandomSampler(list(val.index))"
   ]
  },
  {
   "cell_type": "code",
   "execution_count": 8,
   "metadata": {},
   "outputs": [],
   "source": [
    "# print(len(list(tr.index)))"
   ]
  },
  {
   "cell_type": "code",
   "execution_count": 9,
   "metadata": {},
   "outputs": [],
   "source": [
    "class SubwaySurfers_Dataset(torch.utils.data.Dataset):\n",
    "    def __init__(self, img_data, data_path):\n",
    "        self.data_path = data_path\n",
    "        self.img_data = img_data\n",
    "        \n",
    "    def __len__(self):\n",
    "        return len(self.img_data)\n",
    "    \n",
    "    def __getitem__(self, index):\n",
    "        img_stack_name = os.path.join(self.data_path, self.img_data.loc[index, 'labels'], self.img_data.loc[index, 'observations'])\n",
    "        image = np.load(img_stack_name)\n",
    "        image = torch.tensor(image, dtype=torch.float32)\n",
    "\n",
    "        label = torch.tensor(self.img_data.loc[index, 'encoded_labels'])\n",
    "        \n",
    "        return image, label"
   ]
  },
  {
   "cell_type": "code",
   "execution_count": 10,
   "metadata": {},
   "outputs": [],
   "source": [
    "dataset = SubwaySurfers_Dataset(data, \"/home/kumar-vedant/Documents/Development/subwaySurfersAI/expert_data/\")"
   ]
  },
  {
   "cell_type": "code",
   "execution_count": 11,
   "metadata": {},
   "outputs": [],
   "source": [
    "train_loader = torch.utils.data.DataLoader(dataset, batch_size=BATCH_SIZE, sampler=train_sampler)\n",
    "# validation_loader = torch.utils.data.DataLoader(dataset, batch_size=BATCH_SIZE, sampler=valid_sampler)"
   ]
  },
  {
   "cell_type": "markdown",
   "metadata": {},
   "source": [
    "## Create a model"
   ]
  },
  {
   "cell_type": "code",
   "execution_count": 12,
   "metadata": {},
   "outputs": [],
   "source": [
    "agent = AgentNN((4, 84, 84), 5)\n",
    "model = BehaviorCloningModel(agent)"
   ]
  },
  {
   "cell_type": "code",
   "execution_count": 13,
   "metadata": {},
   "outputs": [
    {
     "name": "stdout",
     "output_type": "stream",
     "text": [
      "BehaviorCloningModel(\n",
      "  (agent_nn): AgentNN(\n",
      "    (conv_layers): Sequential(\n",
      "      (0): Conv2d(4, 16, kernel_size=(8, 8), stride=(4, 4))\n",
      "      (1): ReLU()\n",
      "      (2): Conv2d(16, 32, kernel_size=(4, 4), stride=(2, 2))\n",
      "      (3): ReLU()\n",
      "      (4): Conv2d(32, 64, kernel_size=(3, 3), stride=(1, 1))\n",
      "      (5): ReLU()\n",
      "    )\n",
      "    (network): Sequential(\n",
      "      (0): Sequential(\n",
      "        (0): Conv2d(4, 16, kernel_size=(8, 8), stride=(4, 4))\n",
      "        (1): ReLU()\n",
      "        (2): Conv2d(16, 32, kernel_size=(4, 4), stride=(2, 2))\n",
      "        (3): ReLU()\n",
      "        (4): Conv2d(32, 64, kernel_size=(3, 3), stride=(1, 1))\n",
      "        (5): ReLU()\n",
      "      )\n",
      "      (1): Flatten(start_dim=1, end_dim=-1)\n",
      "      (2): Linear(in_features=3136, out_features=256, bias=True)\n",
      "      (3): ReLU()\n",
      "    )\n",
      "    (actor): Linear(in_features=256, out_features=5, bias=True)\n",
      "    (critic): Linear(in_features=256, out_features=1, bias=True)\n",
      "  )\n",
      ")\n"
     ]
    }
   ],
   "source": [
    "print(model)"
   ]
  },
  {
   "cell_type": "markdown",
   "metadata": {},
   "source": [
    "## Define loss function and optimizer"
   ]
  },
  {
   "cell_type": "code",
   "execution_count": 14,
   "metadata": {},
   "outputs": [],
   "source": [
    "criterion = torch.nn.CrossEntropyLoss()\n",
    "optimizer = torch.optim.Adam(model.parameters(), lr=LR)"
   ]
  },
  {
   "cell_type": "markdown",
   "metadata": {},
   "source": [
    "## Train the network"
   ]
  },
  {
   "cell_type": "code",
   "execution_count": 15,
   "metadata": {},
   "outputs": [
    {
     "name": "stdout",
     "output_type": "stream",
     "text": [
      "Epoch 1\n",
      "\n",
      "Epoch [1/20], Step [0/243], Loss: 1.6310\n",
      "Epoch [1/20], Step [20/243], Loss: 0.8516\n",
      "Epoch [1/20], Step [40/243], Loss: 0.7966\n",
      "Epoch [1/20], Step [60/243], Loss: 1.0909\n",
      "Epoch [1/20], Step [80/243], Loss: 0.9461\n",
      "Epoch [1/20], Step [100/243], Loss: 0.9722\n",
      "Epoch [1/20], Step [120/243], Loss: 0.8136\n",
      "Epoch [1/20], Step [140/243], Loss: 0.8076\n",
      "Epoch [1/20], Step [160/243], Loss: 0.9425\n",
      "Epoch [1/20], Step [180/243], Loss: 0.9274\n",
      "Epoch [1/20], Step [200/243], Loss: 0.8650\n",
      "Epoch [1/20], Step [220/243], Loss: 0.8576\n",
      "Epoch [1/20], Step [240/243], Loss: 1.0270\n",
      "Epoch 2\n",
      "\n",
      "Epoch [2/20], Step [0/243], Loss: 0.8420\n",
      "Epoch [2/20], Step [20/243], Loss: 0.9314\n",
      "Epoch [2/20], Step [40/243], Loss: 0.6687\n",
      "Epoch [2/20], Step [60/243], Loss: 0.7599\n",
      "Epoch [2/20], Step [80/243], Loss: 0.6963\n",
      "Epoch [2/20], Step [100/243], Loss: 0.8261\n",
      "Epoch [2/20], Step [120/243], Loss: 0.8102\n",
      "Epoch [2/20], Step [140/243], Loss: 0.9003\n",
      "Epoch [2/20], Step [160/243], Loss: 0.6960\n",
      "Epoch [2/20], Step [180/243], Loss: 0.6625\n",
      "Epoch [2/20], Step [200/243], Loss: 0.7219\n",
      "Epoch [2/20], Step [220/243], Loss: 0.7248\n",
      "Epoch [2/20], Step [240/243], Loss: 0.7935\n",
      "Epoch 3\n",
      "\n",
      "Epoch [3/20], Step [0/243], Loss: 0.6992\n",
      "Epoch [3/20], Step [20/243], Loss: 0.8539\n",
      "Epoch [3/20], Step [40/243], Loss: 0.7071\n",
      "Epoch [3/20], Step [60/243], Loss: 0.6387\n",
      "Epoch [3/20], Step [80/243], Loss: 0.5189\n",
      "Epoch [3/20], Step [100/243], Loss: 0.8534\n",
      "Epoch [3/20], Step [120/243], Loss: 0.6887\n",
      "Epoch [3/20], Step [140/243], Loss: 0.5796\n",
      "Epoch [3/20], Step [160/243], Loss: 0.7899\n",
      "Epoch [3/20], Step [180/243], Loss: 0.7309\n",
      "Epoch [3/20], Step [200/243], Loss: 0.5982\n",
      "Epoch [3/20], Step [220/243], Loss: 0.5423\n",
      "Epoch [3/20], Step [240/243], Loss: 0.5899\n",
      "Epoch 4\n",
      "\n",
      "Epoch [4/20], Step [0/243], Loss: 0.7005\n",
      "Epoch [4/20], Step [20/243], Loss: 0.6444\n",
      "Epoch [4/20], Step [40/243], Loss: 0.5885\n",
      "Epoch [4/20], Step [60/243], Loss: 0.7357\n",
      "Epoch [4/20], Step [80/243], Loss: 0.5570\n",
      "Epoch [4/20], Step [100/243], Loss: 0.6657\n",
      "Epoch [4/20], Step [120/243], Loss: 0.7511\n",
      "Epoch [4/20], Step [140/243], Loss: 0.5434\n",
      "Epoch [4/20], Step [160/243], Loss: 0.6811\n",
      "Epoch [4/20], Step [180/243], Loss: 0.7230\n",
      "Epoch [4/20], Step [200/243], Loss: 0.5010\n",
      "Epoch [4/20], Step [220/243], Loss: 0.5779\n",
      "Epoch [4/20], Step [240/243], Loss: 0.4660\n",
      "Epoch 5\n",
      "\n",
      "Epoch [5/20], Step [0/243], Loss: 0.7696\n",
      "Epoch [5/20], Step [20/243], Loss: 0.5726\n",
      "Epoch [5/20], Step [40/243], Loss: 0.5766\n",
      "Epoch [5/20], Step [60/243], Loss: 0.6695\n",
      "Epoch [5/20], Step [80/243], Loss: 0.5709\n",
      "Epoch [5/20], Step [100/243], Loss: 0.4859\n",
      "Epoch [5/20], Step [120/243], Loss: 0.6065\n",
      "Epoch [5/20], Step [140/243], Loss: 0.5362\n",
      "Epoch [5/20], Step [160/243], Loss: 0.4945\n",
      "Epoch [5/20], Step [180/243], Loss: 0.7142\n",
      "Epoch [5/20], Step [200/243], Loss: 0.5022\n",
      "Epoch [5/20], Step [220/243], Loss: 0.5904\n",
      "Epoch [5/20], Step [240/243], Loss: 0.4086\n",
      "Epoch 6\n",
      "\n",
      "Epoch [6/20], Step [0/243], Loss: 0.5657\n",
      "Epoch [6/20], Step [20/243], Loss: 0.4814\n",
      "Epoch [6/20], Step [40/243], Loss: 0.4743\n",
      "Epoch [6/20], Step [60/243], Loss: 0.5236\n",
      "Epoch [6/20], Step [80/243], Loss: 0.5240\n",
      "Epoch [6/20], Step [100/243], Loss: 0.4194\n",
      "Epoch [6/20], Step [120/243], Loss: 0.4999\n",
      "Epoch [6/20], Step [140/243], Loss: 0.5052\n",
      "Epoch [6/20], Step [160/243], Loss: 0.4189\n",
      "Epoch [6/20], Step [180/243], Loss: 0.5671\n",
      "Epoch [6/20], Step [200/243], Loss: 0.4626\n",
      "Epoch [6/20], Step [220/243], Loss: 0.5558\n",
      "Epoch [6/20], Step [240/243], Loss: 0.4062\n",
      "Epoch 7\n",
      "\n",
      "Epoch [7/20], Step [0/243], Loss: 0.4404\n",
      "Epoch [7/20], Step [20/243], Loss: 0.5331\n",
      "Epoch [7/20], Step [40/243], Loss: 0.4538\n",
      "Epoch [7/20], Step [60/243], Loss: 0.3987\n",
      "Epoch [7/20], Step [80/243], Loss: 0.4444\n",
      "Epoch [7/20], Step [100/243], Loss: 0.4480\n",
      "Epoch [7/20], Step [120/243], Loss: 0.3758\n",
      "Epoch [7/20], Step [140/243], Loss: 0.3810\n",
      "Epoch [7/20], Step [160/243], Loss: 0.3538\n",
      "Epoch [7/20], Step [180/243], Loss: 0.4624\n",
      "Epoch [7/20], Step [200/243], Loss: 0.3597\n",
      "Epoch [7/20], Step [220/243], Loss: 0.3921\n",
      "Epoch [7/20], Step [240/243], Loss: 0.4643\n",
      "Epoch 8\n",
      "\n",
      "Epoch [8/20], Step [0/243], Loss: 0.4349\n",
      "Epoch [8/20], Step [20/243], Loss: 0.3298\n",
      "Epoch [8/20], Step [40/243], Loss: 0.3204\n",
      "Epoch [8/20], Step [60/243], Loss: 0.3987\n",
      "Epoch [8/20], Step [80/243], Loss: 0.3384\n",
      "Epoch [8/20], Step [100/243], Loss: 0.3379\n",
      "Epoch [8/20], Step [120/243], Loss: 0.2984\n",
      "Epoch [8/20], Step [140/243], Loss: 0.4493\n",
      "Epoch [8/20], Step [160/243], Loss: 0.3807\n",
      "Epoch [8/20], Step [180/243], Loss: 0.3070\n",
      "Epoch [8/20], Step [200/243], Loss: 0.4201\n",
      "Epoch [8/20], Step [220/243], Loss: 0.3338\n",
      "Epoch [8/20], Step [240/243], Loss: 0.3794\n",
      "Epoch 9\n",
      "\n",
      "Epoch [9/20], Step [0/243], Loss: 0.4756\n",
      "Epoch [9/20], Step [20/243], Loss: 0.2237\n",
      "Epoch [9/20], Step [40/243], Loss: 0.2953\n",
      "Epoch [9/20], Step [60/243], Loss: 0.4353\n",
      "Epoch [9/20], Step [80/243], Loss: 0.4080\n",
      "Epoch [9/20], Step [100/243], Loss: 0.2416\n",
      "Epoch [9/20], Step [120/243], Loss: 0.3673\n",
      "Epoch [9/20], Step [140/243], Loss: 0.4475\n",
      "Epoch [9/20], Step [160/243], Loss: 0.3198\n",
      "Epoch [9/20], Step [180/243], Loss: 0.3458\n",
      "Epoch [9/20], Step [200/243], Loss: 0.4174\n",
      "Epoch [9/20], Step [220/243], Loss: 0.3696\n",
      "Epoch [9/20], Step [240/243], Loss: 0.3540\n",
      "Epoch 10\n",
      "\n",
      "Epoch [10/20], Step [0/243], Loss: 0.2849\n",
      "Epoch [10/20], Step [20/243], Loss: 0.4144\n",
      "Epoch [10/20], Step [40/243], Loss: 0.3137\n",
      "Epoch [10/20], Step [60/243], Loss: 0.3003\n",
      "Epoch [10/20], Step [80/243], Loss: 0.3078\n",
      "Epoch [10/20], Step [100/243], Loss: 0.3686\n",
      "Epoch [10/20], Step [120/243], Loss: 0.2308\n",
      "Epoch [10/20], Step [140/243], Loss: 0.2531\n",
      "Epoch [10/20], Step [160/243], Loss: 0.2681\n",
      "Epoch [10/20], Step [180/243], Loss: 0.2431\n",
      "Epoch [10/20], Step [200/243], Loss: 0.2790\n",
      "Epoch [10/20], Step [220/243], Loss: 0.3605\n",
      "Epoch [10/20], Step [240/243], Loss: 0.2006\n",
      "Epoch 11\n",
      "\n",
      "Epoch [11/20], Step [0/243], Loss: 0.2697\n",
      "Epoch [11/20], Step [20/243], Loss: 0.2394\n",
      "Epoch [11/20], Step [40/243], Loss: 0.1986\n",
      "Epoch [11/20], Step [60/243], Loss: 0.2321\n",
      "Epoch [11/20], Step [80/243], Loss: 0.2271\n",
      "Epoch [11/20], Step [100/243], Loss: 0.1985\n",
      "Epoch [11/20], Step [120/243], Loss: 0.1983\n",
      "Epoch [11/20], Step [140/243], Loss: 0.2928\n",
      "Epoch [11/20], Step [160/243], Loss: 0.2487\n",
      "Epoch [11/20], Step [180/243], Loss: 0.2370\n",
      "Epoch [11/20], Step [200/243], Loss: 0.2787\n",
      "Epoch [11/20], Step [220/243], Loss: 0.3154\n",
      "Epoch [11/20], Step [240/243], Loss: 0.2216\n",
      "Epoch 12\n",
      "\n",
      "Epoch [12/20], Step [0/243], Loss: 0.2192\n",
      "Epoch [12/20], Step [20/243], Loss: 0.1416\n",
      "Epoch [12/20], Step [40/243], Loss: 0.3551\n",
      "Epoch [12/20], Step [60/243], Loss: 0.1843\n",
      "Epoch [12/20], Step [80/243], Loss: 0.2793\n",
      "Epoch [12/20], Step [100/243], Loss: 0.1716\n",
      "Epoch [12/20], Step [120/243], Loss: 0.2196\n",
      "Epoch [12/20], Step [140/243], Loss: 0.3309\n",
      "Epoch [12/20], Step [160/243], Loss: 0.0986\n",
      "Epoch [12/20], Step [180/243], Loss: 0.2022\n",
      "Epoch [12/20], Step [200/243], Loss: 0.2662\n",
      "Epoch [12/20], Step [220/243], Loss: 0.2269\n",
      "Epoch [12/20], Step [240/243], Loss: 0.1972\n",
      "Epoch 13\n",
      "\n",
      "Epoch [13/20], Step [0/243], Loss: 0.1600\n",
      "Epoch [13/20], Step [20/243], Loss: 0.2067\n",
      "Epoch [13/20], Step [40/243], Loss: 0.2501\n",
      "Epoch [13/20], Step [60/243], Loss: 0.1758\n",
      "Epoch [13/20], Step [80/243], Loss: 0.2200\n",
      "Epoch [13/20], Step [100/243], Loss: 0.1228\n",
      "Epoch [13/20], Step [120/243], Loss: 0.2806\n",
      "Epoch [13/20], Step [140/243], Loss: 0.1316\n",
      "Epoch [13/20], Step [160/243], Loss: 0.1986\n",
      "Epoch [13/20], Step [180/243], Loss: 0.2088\n",
      "Epoch [13/20], Step [200/243], Loss: 0.2052\n",
      "Epoch [13/20], Step [220/243], Loss: 0.2946\n",
      "Epoch [13/20], Step [240/243], Loss: 0.2014\n",
      "Epoch 14\n",
      "\n",
      "Epoch [14/20], Step [0/243], Loss: 0.1512\n",
      "Epoch [14/20], Step [20/243], Loss: 0.1644\n",
      "Epoch [14/20], Step [40/243], Loss: 0.2355\n",
      "Epoch [14/20], Step [60/243], Loss: 0.1707\n",
      "Epoch [14/20], Step [80/243], Loss: 0.1342\n",
      "Epoch [14/20], Step [100/243], Loss: 0.0940\n",
      "Epoch [14/20], Step [120/243], Loss: 0.1058\n",
      "Epoch [14/20], Step [140/243], Loss: 0.2140\n",
      "Epoch [14/20], Step [160/243], Loss: 0.1041\n",
      "Epoch [14/20], Step [180/243], Loss: 0.1590\n",
      "Epoch [14/20], Step [200/243], Loss: 0.2070\n",
      "Epoch [14/20], Step [220/243], Loss: 0.1159\n",
      "Epoch [14/20], Step [240/243], Loss: 0.1666\n",
      "Epoch 15\n",
      "\n",
      "Epoch [15/20], Step [0/243], Loss: 0.0864\n",
      "Epoch [15/20], Step [20/243], Loss: 0.0833\n",
      "Epoch [15/20], Step [40/243], Loss: 0.0805\n",
      "Epoch [15/20], Step [60/243], Loss: 0.0931\n",
      "Epoch [15/20], Step [80/243], Loss: 0.1041\n",
      "Epoch [15/20], Step [100/243], Loss: 0.0818\n",
      "Epoch [15/20], Step [120/243], Loss: 0.0802\n",
      "Epoch [15/20], Step [140/243], Loss: 0.0945\n",
      "Epoch [15/20], Step [160/243], Loss: 0.1878\n",
      "Epoch [15/20], Step [180/243], Loss: 0.1274\n",
      "Epoch [15/20], Step [200/243], Loss: 0.1046\n",
      "Epoch [15/20], Step [220/243], Loss: 0.0904\n",
      "Epoch [15/20], Step [240/243], Loss: 0.1532\n",
      "Epoch 16\n",
      "\n",
      "Epoch [16/20], Step [0/243], Loss: 0.0654\n",
      "Epoch [16/20], Step [20/243], Loss: 0.1957\n",
      "Epoch [16/20], Step [40/243], Loss: 0.1246\n",
      "Epoch [16/20], Step [60/243], Loss: 0.0719\n",
      "Epoch [16/20], Step [80/243], Loss: 0.0692\n",
      "Epoch [16/20], Step [100/243], Loss: 0.0656\n",
      "Epoch [16/20], Step [120/243], Loss: 0.1175\n",
      "Epoch [16/20], Step [140/243], Loss: 0.1163\n",
      "Epoch [16/20], Step [160/243], Loss: 0.0909\n",
      "Epoch [16/20], Step [180/243], Loss: 0.0738\n",
      "Epoch [16/20], Step [200/243], Loss: 0.1250\n",
      "Epoch [16/20], Step [220/243], Loss: 0.1029\n",
      "Epoch [16/20], Step [240/243], Loss: 0.1537\n",
      "Epoch 17\n",
      "\n",
      "Epoch [17/20], Step [0/243], Loss: 0.1452\n",
      "Epoch [17/20], Step [20/243], Loss: 0.0596\n",
      "Epoch [17/20], Step [40/243], Loss: 0.0778\n",
      "Epoch [17/20], Step [60/243], Loss: 0.1151\n",
      "Epoch [17/20], Step [80/243], Loss: 0.0493\n",
      "Epoch [17/20], Step [100/243], Loss: 0.0971\n",
      "Epoch [17/20], Step [120/243], Loss: 0.0507\n",
      "Epoch [17/20], Step [140/243], Loss: 0.1067\n",
      "Epoch [17/20], Step [160/243], Loss: 0.0743\n",
      "Epoch [17/20], Step [180/243], Loss: 0.0349\n",
      "Epoch [17/20], Step [200/243], Loss: 0.0778\n",
      "Epoch [17/20], Step [220/243], Loss: 0.0243\n",
      "Epoch [17/20], Step [240/243], Loss: 0.1208\n",
      "Epoch 18\n",
      "\n",
      "Epoch [18/20], Step [0/243], Loss: 0.0410\n",
      "Epoch [18/20], Step [20/243], Loss: 0.0662\n",
      "Epoch [18/20], Step [40/243], Loss: 0.0338\n",
      "Epoch [18/20], Step [60/243], Loss: 0.0547\n",
      "Epoch [18/20], Step [80/243], Loss: 0.1132\n",
      "Epoch [18/20], Step [100/243], Loss: 0.1000\n",
      "Epoch [18/20], Step [120/243], Loss: 0.0728\n",
      "Epoch [18/20], Step [140/243], Loss: 0.0488\n",
      "Epoch [18/20], Step [160/243], Loss: 0.0927\n",
      "Epoch [18/20], Step [180/243], Loss: 0.0431\n",
      "Epoch [18/20], Step [200/243], Loss: 0.0734\n",
      "Epoch [18/20], Step [220/243], Loss: 0.0592\n",
      "Epoch [18/20], Step [240/243], Loss: 0.0470\n",
      "Epoch 19\n",
      "\n",
      "Epoch [19/20], Step [0/243], Loss: 0.0687\n",
      "Epoch [19/20], Step [20/243], Loss: 0.0758\n",
      "Epoch [19/20], Step [40/243], Loss: 0.0395\n",
      "Epoch [19/20], Step [60/243], Loss: 0.0551\n",
      "Epoch [19/20], Step [80/243], Loss: 0.0170\n",
      "Epoch [19/20], Step [100/243], Loss: 0.0521\n",
      "Epoch [19/20], Step [120/243], Loss: 0.0909\n",
      "Epoch [19/20], Step [140/243], Loss: 0.0933\n",
      "Epoch [19/20], Step [160/243], Loss: 0.0674\n",
      "Epoch [19/20], Step [180/243], Loss: 0.0543\n",
      "Epoch [19/20], Step [200/243], Loss: 0.0739\n",
      "Epoch [19/20], Step [220/243], Loss: 0.0186\n",
      "Epoch [19/20], Step [240/243], Loss: 0.0827\n",
      "Epoch 20\n",
      "\n",
      "Epoch [20/20], Step [0/243], Loss: 0.0283\n",
      "Epoch [20/20], Step [20/243], Loss: 0.0805\n",
      "Epoch [20/20], Step [40/243], Loss: 0.1186\n",
      "Epoch [20/20], Step [60/243], Loss: 0.0311\n",
      "Epoch [20/20], Step [80/243], Loss: 0.0446\n",
      "Epoch [20/20], Step [100/243], Loss: 0.0861\n",
      "Epoch [20/20], Step [120/243], Loss: 0.1022\n",
      "Epoch [20/20], Step [140/243], Loss: 0.0392\n",
      "Epoch [20/20], Step [160/243], Loss: 0.0899\n",
      "Epoch [20/20], Step [180/243], Loss: 0.0279\n",
      "Epoch [20/20], Step [200/243], Loss: 0.1044\n",
      "Epoch [20/20], Step [220/243], Loss: 0.0615\n",
      "Epoch [20/20], Step [240/243], Loss: 0.0998\n"
     ]
    }
   ],
   "source": [
    "for epoch in range(1, N_EPOCHS+1):\n",
    "    running_loss = 0.0\n",
    "    correct = 0\n",
    "    total_step = len(train_loader)\n",
    "\n",
    "    print(f'Epoch {epoch}\\n')\n",
    "    \n",
    "    for batch_idx, (data_, target_) in enumerate(train_loader):\n",
    "        data_, target_ = data_.to(agent.device), target_.to(agent.device) # on GPU\n",
    "\n",
    "        # zero the parameter gradients\n",
    "        optimizer.zero_grad()\n",
    "        # forward, backward, optimize\n",
    "        outputs = model(data_)\n",
    "        loss = criterion(outputs, target_)\n",
    "        loss.backward()\n",
    "        optimizer.step()\n",
    "        \n",
    "        # print statistics\n",
    "        running_loss += loss.item()\n",
    "        _,pred = torch.max(outputs, dim=1)\n",
    "        correct += torch.sum(pred==target_).item()\n",
    "        if (batch_idx) % 20 == 0:\n",
    "            print ('Epoch [{}/{}], Step [{}/{}], Loss: {:.4f}' \n",
    "                   .format(epoch, N_EPOCHS, batch_idx, total_step, loss.item()))"
   ]
  },
  {
   "cell_type": "code",
   "execution_count": 37,
   "metadata": {},
   "outputs": [
    {
     "name": "stderr",
     "output_type": "stream",
     "text": [
      "/tmp/ipykernel_5643/1196307034.py:1: FutureWarning: You are using `torch.load` with `weights_only=False` (the current default value), which uses the default pickle module implicitly. It is possible to construct malicious pickle data which will execute arbitrary code during unpickling (See https://github.com/pytorch/pytorch/blob/main/SECURITY.md#untrusted-models for more details). In a future release, the default value for `weights_only` will be flipped to `True`. This limits the functions that could be executed during unpickling. Arbitrary objects will no longer be allowed to be loaded via this mode unless they are explicitly allowlisted by the user via `torch.serialization.add_safe_globals`. We recommend you start setting `weights_only=True` for any use case where you don't have full control of the loaded file. Please open an issue on GitHub for any issues related to this experimental feature.\n",
      "  model.load_state_dict(torch.load(\"./classification_model_0.pt\"))\n"
     ]
    },
    {
     "data": {
      "text/plain": [
       "<All keys matched successfully>"
      ]
     },
     "execution_count": 37,
     "metadata": {},
     "output_type": "execute_result"
    }
   ],
   "source": [
    "# model.load_state_dict(torch.load(\"./classification_model_0.pt\"))"
   ]
  },
  {
   "cell_type": "code",
   "execution_count": 16,
   "metadata": {},
   "outputs": [],
   "source": [
    "X_test = data[\"labels\"] + \"/\" + data[\"observations\"]\n",
    "y_test = data[\"encoded_labels\"]"
   ]
  },
  {
   "cell_type": "code",
   "execution_count": 17,
   "metadata": {},
   "outputs": [],
   "source": [
    "y_pred = [np.argmax(model.forward(torch.tensor(np.load(\"/home/kumar-vedant/Documents/Development/subwaySurfersAI/expert_data/\" + img), dtype=torch.float32).to(agent.device).unsqueeze(0)).cpu().detach().numpy()) for img in X_test]"
   ]
  },
  {
   "cell_type": "code",
   "execution_count": null,
   "metadata": {},
   "outputs": [
    {
     "ename": "AttributeError",
     "evalue": "'BehaviorCloningModel' object has no attribute 'device'",
     "output_type": "error",
     "traceback": [
      "\u001b[0;31m---------------------------------------------------------------------------\u001b[0m",
      "\u001b[0;31mAttributeError\u001b[0m                            Traceback (most recent call last)",
      "Cell \u001b[0;32mIn[18], line 1\u001b[0m\n\u001b[0;32m----> 1\u001b[0m test_img \u001b[38;5;241m=\u001b[39m torch\u001b[38;5;241m.\u001b[39mtensor(np\u001b[38;5;241m.\u001b[39mload(\u001b[38;5;124m\"\u001b[39m\u001b[38;5;124m/home/kumar-vedant/Documents/Development/subwaySurfersAI/expert_data/roll/obs_0.npy\u001b[39m\u001b[38;5;124m\"\u001b[39m), dtype\u001b[38;5;241m=\u001b[39mtorch\u001b[38;5;241m.\u001b[39mfloat32)\u001b[38;5;241m.\u001b[39mto(\u001b[43mmodel\u001b[49m\u001b[38;5;241;43m.\u001b[39;49m\u001b[43mdevice\u001b[49m)\n\u001b[1;32m      2\u001b[0m test_img \u001b[38;5;241m=\u001b[39m test_img\u001b[38;5;241m.\u001b[39munsqueeze(\u001b[38;5;241m0\u001b[39m)\n\u001b[1;32m      4\u001b[0m \u001b[38;5;28mprint\u001b[39m(model\u001b[38;5;241m.\u001b[39mforward(test_img))\n",
      "File \u001b[0;32m~/.local/lib/python3.10/site-packages/torch/nn/modules/module.py:1729\u001b[0m, in \u001b[0;36mModule.__getattr__\u001b[0;34m(self, name)\u001b[0m\n\u001b[1;32m   1727\u001b[0m     \u001b[38;5;28;01mif\u001b[39;00m name \u001b[38;5;129;01min\u001b[39;00m modules:\n\u001b[1;32m   1728\u001b[0m         \u001b[38;5;28;01mreturn\u001b[39;00m modules[name]\n\u001b[0;32m-> 1729\u001b[0m \u001b[38;5;28;01mraise\u001b[39;00m \u001b[38;5;167;01mAttributeError\u001b[39;00m(\u001b[38;5;124mf\u001b[39m\u001b[38;5;124m\"\u001b[39m\u001b[38;5;124m'\u001b[39m\u001b[38;5;132;01m{\u001b[39;00m\u001b[38;5;28mtype\u001b[39m(\u001b[38;5;28mself\u001b[39m)\u001b[38;5;241m.\u001b[39m\u001b[38;5;18m__name__\u001b[39m\u001b[38;5;132;01m}\u001b[39;00m\u001b[38;5;124m'\u001b[39m\u001b[38;5;124m object has no attribute \u001b[39m\u001b[38;5;124m'\u001b[39m\u001b[38;5;132;01m{\u001b[39;00mname\u001b[38;5;132;01m}\u001b[39;00m\u001b[38;5;124m'\u001b[39m\u001b[38;5;124m\"\u001b[39m)\n",
      "\u001b[0;31mAttributeError\u001b[0m: 'BehaviorCloningModel' object has no attribute 'device'"
     ]
    }
   ],
   "source": [
    "test_img = torch.tensor(np.load(\"/home/kumar-vedant/Documents/Development/subwaySurfersAI/expert_data/roll/obs_0.npy\"), dtype=torch.float32).to(agent.device)\n",
    "test_img = test_img.unsqueeze(0)\n",
    "\n",
    "print(model.forward(test_img))\n",
    "print(np.argmax(model.forward(test_img).cpu().detach().numpy()))"
   ]
  },
  {
   "cell_type": "code",
   "execution_count": 19,
   "metadata": {},
   "outputs": [],
   "source": [
    "def evaluate(y_true, y_pred):\n",
    "        y_true = np.array(y_true)\n",
    "        y_pred = np.array(y_pred)\n",
    "\n",
    "        # compute evaluation metrics\n",
    "        accuracy = accuracy_score(y_true, y_pred)\n",
    "        precision = precision_score(y_true, y_pred, average='weighted')\n",
    "        recall = recall_score(y_true, y_pred, average='weighted')\n",
    "        f1 = f1_score(y_true, y_pred, average='weighted')\n",
    "\n",
    "        metrics = {\n",
    "            \"Accuracy\": accuracy,\n",
    "            \"Precision\": precision,\n",
    "            \"Recall\": recall,\n",
    "            \"F1-Score\": f1\n",
    "        }\n",
    "\n",
    "        # print metrics\n",
    "        print(\"Model Evaluation Metrics:\")\n",
    "        for metric_name, metric_value in metrics.items():\n",
    "            print(f\"{metric_name}: {metric_value:.4f}\")\n",
    "\n",
    "        # display confusion matrix heatmap\n",
    "        cm = confusion_matrix(y_true, y_pred)\n",
    "        plt.figure(figsize=(3, 2))\n",
    "        sns.heatmap(cm, annot=True, fmt='d', cmap='Blues')\n",
    "        plt.xlabel(\"Predicted Labels\")\n",
    "        plt.ylabel(\"True Labels\")\n",
    "        plt.title(\"Confusion Matrix\")\n",
    "        plt.show()"
   ]
  },
  {
   "cell_type": "code",
   "execution_count": 21,
   "metadata": {},
   "outputs": [],
   "source": [
    "torch.save(model.agent_nn.state_dict(), \"./classification_model_0.pt\")"
   ]
  },
  {
   "cell_type": "code",
   "execution_count": 20,
   "metadata": {},
   "outputs": [
    {
     "name": "stdout",
     "output_type": "stream",
     "text": [
      "Model Evaluation Metrics:\n",
      "Accuracy: 0.9621\n",
      "Precision: 0.9617\n",
      "Recall: 0.9621\n",
      "F1-Score: 0.9618\n"
     ]
    },
    {
     "data": {
      "image/png": "[encoded data removed]",
      "text/plain": [
       "<Figure size 300x200 with 2 Axes>"
      ]
     },
     "metadata": {},
     "output_type": "display_data"
    }
   ],
   "source": [
    "evaluate(y_test, y_pred)"
   ]
  },
  {
   "cell_type": "code",
   "execution_count": null,
   "metadata": {},
   "outputs": [],
   "source": []
  }
 ],
 "metadata": {
  "kernelspec": {
   "display_name": "Python 3",
   "language": "python",
   "name": "python3"
  },
  "language_info": {
   "codemirror_mode": {
    "name": "ipython",
    "version": 3
   },
   "file_extension": ".py",
   "mimetype": "text/x-python",
   "name": "python",
   "nbconvert_exporter": "python",
   "pygments_lexer": "ipython3",
   "version": "3.10.12"
  }
 },
 "nbformat": 4,
 "nbformat_minor": 2
}
